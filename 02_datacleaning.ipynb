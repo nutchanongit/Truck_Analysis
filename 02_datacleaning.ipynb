{
 "cells": [
  {
   "cell_type": "markdown",
   "id": "03aa2ca1",
   "metadata": {},
   "source": [
    "# Intro to data science project"
   ]
  },
  {
   "cell_type": "markdown",
   "id": "67e5d71d",
   "metadata": {},
   "source": [
    "## Data \n",
    "Truck GPS 1 day\n",
    "## Objective\n",
    "1) หา Origin Destination ของรถบรรทุกในประเทศไทย\n",
    "2) หา ปริมาณคาร์บอนที่ปล่อยจากการขนส่ง กรณีศึกษา การเดินทางจากท่าเรือแหลมฉบัง ไป นิคมอุตสาหกรรมใน 3 จังหวัด อยุธยา ฉะเชิงเทรา สมุทรสาคร\n",
    "3) หา บริเวณที่รถบรรทุกขับความเร็วเกินตามที่กฎหมายกับหนด ภายในภาคกลาง (80km/hr)"
   ]
  },
  {
   "cell_type": "code",
   "execution_count": 2,
   "id": "2bacd422",
   "metadata": {},
   "outputs": [],
   "source": [
    "import pandas as pd\n"
   ]
  },
  {
   "cell_type": "code",
   "execution_count": null,
   "id": "fa31de1d",
   "metadata": {},
   "outputs": [],
   "source": [
    "gps_data = pd.read_csv(\n",
    "    r\"C:\\Users\\Documents\\DCB Project\\Raw Data\\truckdata-00-06.csv\",\n",
    "    encoding=\"latin1\"  # Use the correct encoding for your file\n",
    ")\n",
    "df = gps_data"
   ]
  },
  {
   "cell_type": "code",
   "execution_count": null,
   "id": "be6a1697",
   "metadata": {},
   "outputs": [
    {
     "name": "stdout",
     "output_type": "stream",
     "text": [
      "📥 Reading file: C:\\Users\\SeniorProject\\Documents\\DCB Project\\Raw Data\\truckdata-00-06.csv\n",
      "📥 Reading file: C:\\Users\\SeniorProject\\Documents\\DCB Project\\Raw Data\\truckdata-06-12.csv\n",
      "📥 Reading file: C:\\Users\\SeniorProject\\Documents\\DCB Project\\Raw Data\\truckdata-12-18.csv\n",
      "📥 Reading file: C:\\Users\\SeniorProject\\Documents\\DCB Project\\Raw Data\\truckdata-18-24.csv\n",
      "✅ All CSVs merged and saved to: C:\\Users\\SeniorProject\\Documents\\DCB Project\\Raw Data\\merged_truckdata.parquet\n"
     ]
    }
   ],
   "source": [
    "import pandas as pd\n",
    "import os\n",
    "\n",
    "# Set the folder path where your CSVs are located\n",
    "folder_path = r'C:\\Users\\Documents\\DCB Project\\Raw Data'\n",
    "\n",
    "# Find all CSV files in the folder\n",
    "file_list = [os.path.join(folder_path, f) for f in os.listdir(folder_path) if f.endswith('.csv')]\n",
    "\n",
    "# Merge them into one DataFrame\n",
    "df_list = []\n",
    "for file in file_list:\n",
    "    print(f\"📥 Reading file: {file}\")\n",
    "    df = pd.read_csv(file, encoding='latin1', low_memory=False)  # Add header=0 if files have headers\n",
    "    df_list.append(df)\n",
    "\n",
    "# Combine all into one\n",
    "merged_df = pd.concat(df_list, ignore_index=True)\n",
    "\n",
    "# Save as Parquet\n",
    "output_path = os.path.join(folder_path, 'merged_truckdata.parquet')\n",
    "merged_df.to_parquet(output_path, index=False)\n",
    "\n",
    "print(\"✅ All CSVs merged and saved to:\", output_path)\n"
   ]
  },
  {
   "cell_type": "markdown",
   "id": "3351659f",
   "metadata": {},
   "source": [
    "Clean data"
   ]
  },
  {
   "cell_type": "code",
   "execution_count": null,
   "id": "06d650e3",
   "metadata": {},
   "outputs": [],
   "source": [
    "df = pd.read_parquet(r\"C:\\Users\\Documents\\DCB Project\\Raw Data\\merged_truckdata.parquet\")\n"
   ]
  },
  {
   "cell_type": "code",
   "execution_count": null,
   "id": "63507994",
   "metadata": {},
   "outputs": [
    {
     "name": "stdout",
     "output_type": "stream",
     "text": [
      "Initial rows: 338,540,013\n"
     ]
    }
   ],
   "source": [
    "# 1. Initial row count\n",
    "initial_rows = len(df)\n",
    "print(f\"Initial rows: {initial_rows:,}\")"
   ]
  },
  {
   "cell_type": "code",
   "execution_count": 11,
   "id": "e51ffb86",
   "metadata": {},
   "outputs": [
    {
     "name": "stdout",
     "output_type": "stream",
     "text": [
      "Removed duplicates: 94,073,784 rows\n"
     ]
    }
   ],
   "source": [
    "# 2. Remove duplicates\n",
    "before = len(df)\n",
    "df = df.drop_duplicates()\n",
    "print(f\"Removed duplicates: {before - len(df):,} rows\")"
   ]
  },
  {
   "cell_type": "code",
   "execution_count": 13,
   "id": "8a4e8d04",
   "metadata": {},
   "outputs": [
    {
     "name": "stdout",
     "output_type": "stream",
     "text": [
      "Removed rows with missing values: 0\n"
     ]
    }
   ],
   "source": [
    "# 3. Drop missing values\n",
    "before = len(df)\n",
    "df = df.dropna()\n",
    "print(f\"Removed rows with missing values: {before - len(df):,}\")"
   ]
  },
  {
   "cell_type": "code",
   "execution_count": 14,
   "id": "c546ca20",
   "metadata": {},
   "outputs": [
    {
     "data": {
      "text/html": [
       "<div>\n",
       "<style scoped>\n",
       "    .dataframe tbody tr th:only-of-type {\n",
       "        vertical-align: middle;\n",
       "    }\n",
       "\n",
       "    .dataframe tbody tr th {\n",
       "        vertical-align: top;\n",
       "    }\n",
       "\n",
       "    .dataframe thead th {\n",
       "        text-align: right;\n",
       "    }\n",
       "</style>\n",
       "<table border=\"1\" class=\"dataframe\">\n",
       "  <thead>\n",
       "    <tr style=\"text-align: right;\">\n",
       "      <th></th>\n",
       "      <th>unitid</th>\n",
       "      <th>utc_ts</th>\n",
       "      <th>lat</th>\n",
       "      <th>lon</th>\n",
       "      <th>speed</th>\n",
       "      <th>typecode</th>\n",
       "    </tr>\n",
       "  </thead>\n",
       "  <tbody>\n",
       "    <tr>\n",
       "      <th>0</th>\n",
       "      <td>00300170000000T015820450148</td>\n",
       "      <td>2024-10-31 23:58:47</td>\n",
       "      <td>16.397420</td>\n",
       "      <td>102.813911</td>\n",
       "      <td>66</td>\n",
       "      <td>7</td>\n",
       "    </tr>\n",
       "    <tr>\n",
       "      <th>1</th>\n",
       "      <td>00300170000000T015820451022</td>\n",
       "      <td>2024-10-31 23:58:55</td>\n",
       "      <td>15.176015</td>\n",
       "      <td>104.843303</td>\n",
       "      <td>0</td>\n",
       "      <td>7</td>\n",
       "    </tr>\n",
       "    <tr>\n",
       "      <th>2</th>\n",
       "      <td>00300170000000T015820451233</td>\n",
       "      <td>2024-10-31 23:58:35</td>\n",
       "      <td>14.373698</td>\n",
       "      <td>100.021311</td>\n",
       "      <td>0</td>\n",
       "      <td>7</td>\n",
       "    </tr>\n",
       "    <tr>\n",
       "      <th>3</th>\n",
       "      <td>00300170000000T015820710006</td>\n",
       "      <td>2024-10-31 23:58:04</td>\n",
       "      <td>15.249035</td>\n",
       "      <td>100.204625</td>\n",
       "      <td>0</td>\n",
       "      <td>7</td>\n",
       "    </tr>\n",
       "    <tr>\n",
       "      <th>4</th>\n",
       "      <td>00300170000000T015820710404</td>\n",
       "      <td>2024-10-31 23:58:14</td>\n",
       "      <td>13.779333</td>\n",
       "      <td>100.686003</td>\n",
       "      <td>0</td>\n",
       "      <td>7</td>\n",
       "    </tr>\n",
       "  </tbody>\n",
       "</table>\n",
       "</div>"
      ],
      "text/plain": [
       "                        unitid               utc_ts        lat         lon  \\\n",
       "0  00300170000000T015820450148  2024-10-31 23:58:47  16.397420  102.813911   \n",
       "1  00300170000000T015820451022  2024-10-31 23:58:55  15.176015  104.843303   \n",
       "2  00300170000000T015820451233  2024-10-31 23:58:35  14.373698  100.021311   \n",
       "3  00300170000000T015820710006  2024-10-31 23:58:04  15.249035  100.204625   \n",
       "4  00300170000000T015820710404  2024-10-31 23:58:14  13.779333  100.686003   \n",
       "\n",
       "   speed  typecode  \n",
       "0     66         7  \n",
       "1      0         7  \n",
       "2      0         7  \n",
       "3      0         7  \n",
       "4      0         7  "
      ]
     },
     "execution_count": 14,
     "metadata": {},
     "output_type": "execute_result"
    }
   ],
   "source": [
    "df.head()"
   ]
  },
  {
   "cell_type": "code",
   "execution_count": null,
   "id": "79dd69b9",
   "metadata": {},
   "outputs": [
    {
     "name": "stdout",
     "output_type": "stream",
     "text": [
      "Removed GPS outliers: 141,824,816 rows\n"
     ]
    }
   ],
   "source": [
    "# 4.Filter by lat/lon within Area Of Interest (AOI)\n",
    " \n",
    "before = len(df)\n",
    "lat_min, lat_max = 12.58, 14.54\n",
    "lon_min, lon_max = 99.90, 102.05\n",
    "df = df[(df[\"lat\"].between(lat_min, lat_max)) & (df[\"lon\"].between(lon_min, lon_max))]\n",
    "print(f\"Removed GPS outliers: {before - len(df):,} rows\")"
   ]
  },
  {
   "cell_type": "code",
   "execution_count": null,
   "id": "db94b35f",
   "metadata": {},
   "outputs": [],
   "source": [
    "\n",
    "\n",
    "# Define the path to the cleaned data folder\n",
    "folder_path = r'C:\\Users\\Documents\\DCB Project\\CleanedData'\n",
    "\n",
    "# Make sure the folder exists (optional, but good practice)\n",
    "os.makedirs(folder_path, exist_ok=True)\n",
    "\n",
    "# Define full output path for the cleaned parquet file\n",
    "output_path = os.path.join(folder_path, 'cleaned_merged_truckdata.parquet')\n",
    "\n",
    "# Save the cleaned DataFrame\n",
    "df.to_parquet(output_path, index=False)"
   ]
  }
 ],
 "metadata": {
  "kernelspec": {
   "display_name": "base",
   "language": "python",
   "name": "python3"
  },
  "language_info": {
   "codemirror_mode": {
    "name": "ipython",
    "version": 3
   },
   "file_extension": ".py",
   "mimetype": "text/x-python",
   "name": "python",
   "nbconvert_exporter": "python",
   "pygments_lexer": "ipython3",
   "version": "3.12.7"
  }
 },
 "nbformat": 4,
 "nbformat_minor": 5
}

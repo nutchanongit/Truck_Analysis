{
 "cells": [
  {
   "cell_type": "markdown",
   "metadata": {},
   "source": [
    "# Intro to data science project"
   ]
  },
  {
   "cell_type": "markdown",
   "metadata": {},
   "source": [
    "## Data \n",
    "Truck GPS 1 day\n",
    "## Objective\n",
    "1) Carbon emittion volumn in interest areas   \n",
    "\n",
    "\t- Apply ML(K-means) to find routes used by truck\n",
    "\n",
    "2) Highspeed truck area in the middle of thailand\n",
    "\n",
    "\t- Apply ML (DBSCAN)  to find the high speed area \n",
    "\n",
    "3) Lowspeed truck area in the middle of thailand\n",
    "\n",
    "\t- Apply ML (DBSCAN)  to find the low speed area "
   ]
  },
  {
   "cell_type": "code",
   "execution_count": null,
   "metadata": {},
   "outputs": [
    {
     "data": {
      "text/html": [
       "<div>\n",
       "<style scoped>\n",
       "    .dataframe tbody tr th:only-of-type {\n",
       "        vertical-align: middle;\n",
       "    }\n",
       "\n",
       "    .dataframe tbody tr th {\n",
       "        vertical-align: top;\n",
       "    }\n",
       "\n",
       "    .dataframe thead th {\n",
       "        text-align: right;\n",
       "    }\n",
       "</style>\n",
       "<table border=\"1\" class=\"dataframe\">\n",
       "  <thead>\n",
       "    <tr style=\"text-align: right;\">\n",
       "      <th></th>\n",
       "      <th>unitid</th>\n",
       "      <th>utc_ts</th>\n",
       "      <th>lat</th>\n",
       "      <th>lon</th>\n",
       "      <th>speed</th>\n",
       "      <th>typecode</th>\n",
       "    </tr>\n",
       "  </thead>\n",
       "  <tbody>\n",
       "    <tr>\n",
       "      <th>0</th>\n",
       "      <td>00300170000000T015820450148</td>\n",
       "      <td>2024-10-31 23:58:47</td>\n",
       "      <td>16.397420</td>\n",
       "      <td>102.813911</td>\n",
       "      <td>66</td>\n",
       "      <td>7</td>\n",
       "    </tr>\n",
       "    <tr>\n",
       "      <th>1</th>\n",
       "      <td>00300170000000T015820451022</td>\n",
       "      <td>2024-10-31 23:58:55</td>\n",
       "      <td>15.176015</td>\n",
       "      <td>104.843303</td>\n",
       "      <td>0</td>\n",
       "      <td>7</td>\n",
       "    </tr>\n",
       "    <tr>\n",
       "      <th>2</th>\n",
       "      <td>00300170000000T015820451233</td>\n",
       "      <td>2024-10-31 23:58:35</td>\n",
       "      <td>14.373698</td>\n",
       "      <td>100.021311</td>\n",
       "      <td>0</td>\n",
       "      <td>7</td>\n",
       "    </tr>\n",
       "    <tr>\n",
       "      <th>3</th>\n",
       "      <td>00300170000000T015820710006</td>\n",
       "      <td>2024-10-31 23:58:04</td>\n",
       "      <td>15.249035</td>\n",
       "      <td>100.204625</td>\n",
       "      <td>0</td>\n",
       "      <td>7</td>\n",
       "    </tr>\n",
       "    <tr>\n",
       "      <th>4</th>\n",
       "      <td>00300170000000T015820710404</td>\n",
       "      <td>2024-10-31 23:58:14</td>\n",
       "      <td>13.779333</td>\n",
       "      <td>100.686003</td>\n",
       "      <td>0</td>\n",
       "      <td>7</td>\n",
       "    </tr>\n",
       "  </tbody>\n",
       "</table>\n",
       "</div>"
      ],
      "text/plain": [
       "                        unitid               utc_ts        lat         lon  \\\n",
       "0  00300170000000T015820450148  2024-10-31 23:58:47  16.397420  102.813911   \n",
       "1  00300170000000T015820451022  2024-10-31 23:58:55  15.176015  104.843303   \n",
       "2  00300170000000T015820451233  2024-10-31 23:58:35  14.373698  100.021311   \n",
       "3  00300170000000T015820710006  2024-10-31 23:58:04  15.249035  100.204625   \n",
       "4  00300170000000T015820710404  2024-10-31 23:58:14  13.779333  100.686003   \n",
       "\n",
       "   speed  typecode  \n",
       "0     66         7  \n",
       "1      0         7  \n",
       "2      0         7  \n",
       "3      0         7  \n",
       "4      0         7  "
      ]
     },
     "execution_count": 2,
     "metadata": {},
     "output_type": "execute_result"
    }
   ],
   "source": [
    "import pandas as pd\n",
    "\n",
    "df = pd.read_parquet(r'C:\\Users\\Documents\\TruckAnalyticsGPS\\Transformed Data\\Converted to Parquet\\truckdata-00-06.parquet')\n",
    "\n",
    "# Display the first few rows of the dataframe\n",
    "df.head()"
   ]
  },
  {
   "cell_type": "code",
   "execution_count": 3,
   "metadata": {},
   "outputs": [
    {
     "name": "stdout",
     "output_type": "stream",
     "text": [
      "<class 'pandas.core.frame.DataFrame'>\n",
      "RangeIndex: 94548685 entries, 0 to 94548684\n",
      "Data columns (total 6 columns):\n",
      " #   Column    Dtype  \n",
      "---  ------    -----  \n",
      " 0   unitid    object \n",
      " 1   utc_ts    object \n",
      " 2   lat       float64\n",
      " 3   lon       float64\n",
      " 4   speed     int64  \n",
      " 5   typecode  int64  \n",
      "dtypes: float64(2), int64(2), object(2)\n",
      "memory usage: 4.2+ GB\n"
     ]
    }
   ],
   "source": [
    "df.info()"
   ]
  },
  {
   "cell_type": "code",
   "execution_count": 4,
   "metadata": {},
   "outputs": [
    {
     "name": "stdout",
     "output_type": "stream",
     "text": [
      "unitid      0\n",
      "utc_ts      0\n",
      "lat         0\n",
      "lon         0\n",
      "speed       0\n",
      "typecode    0\n",
      "dtype: int64\n"
     ]
    }
   ],
   "source": [
    "print(df.isnull().sum())"
   ]
  },
  {
   "cell_type": "code",
   "execution_count": 5,
   "metadata": {},
   "outputs": [
    {
     "name": "stdout",
     "output_type": "stream",
     "text": [
      "                lat           lon         speed      typecode\n",
      "count  9.454868e+07  9.454868e+07  9.454868e+07  9.454868e+07\n",
      "mean   1.405010e+01  1.009008e+02  1.365022e+01  7.410856e+00\n",
      "std    2.577866e+00  1.974134e+00  2.345109e+01  7.516979e-01\n",
      "min   -8.291751e+01 -1.649087e+02  0.000000e+00  5.000000e+00\n",
      "25%    1.336012e+01  1.000628e+02  0.000000e+00  7.000000e+00\n",
      "50%    1.403882e+01  1.007142e+02  0.000000e+00  8.000000e+00\n",
      "75%    1.537633e+01  1.013036e+02  1.800000e+01  8.000000e+00\n",
      "max    7.956578e+01  1.568705e+02  2.550000e+02  9.000000e+00\n",
      "typecode\n",
      "8    44877659\n",
      "7    38234994\n",
      "6     7078994\n",
      "9     2440336\n",
      "5     1916702\n",
      "Name: count, dtype: int64\n"
     ]
    }
   ],
   "source": [
    "print(df.describe())  # Summary of numeric columns\n",
    "print(df[\"typecode\"].value_counts())  # Count unique type codes"
   ]
  },
  {
   "cell_type": "code",
   "execution_count": 6,
   "metadata": {},
   "outputs": [
    {
     "data": {
      "image/png": "[encoded data removed]",
      "text/plain": [
       "<Figure size 640x480 with 1 Axes>"
      ]
     },
     "metadata": {},
     "output_type": "display_data"
    }
   ],
   "source": [
    "import matplotlib.pyplot as plt\n",
    "\n",
    "plt.hist(df[\"speed\"], bins=30, edgecolor=\"black\")\n",
    "plt.xlabel(\"Speed (km/h)\")\n",
    "plt.ylabel(\"Frequency\")\n",
    "plt.title(\"Distribution of Truck Speeds\")\n",
    "plt.show()"
   ]
  },
  {
   "cell_type": "code",
   "execution_count": 7,
   "metadata": {},
   "outputs": [
    {
     "name": "stdout",
     "output_type": "stream",
     "text": [
      "Total rows where speed > 120: 332\n"
     ]
    },
    {
     "data": {
      "text/html": [
       "<div>\n",
       "<style scoped>\n",
       "    .dataframe tbody tr th:only-of-type {\n",
       "        vertical-align: middle;\n",
       "    }\n",
       "\n",
       "    .dataframe tbody tr th {\n",
       "        vertical-align: top;\n",
       "    }\n",
       "\n",
       "    .dataframe thead th {\n",
       "        text-align: right;\n",
       "    }\n",
       "</style>\n",
       "<table border=\"1\" class=\"dataframe\">\n",
       "  <thead>\n",
       "    <tr style=\"text-align: right;\">\n",
       "      <th></th>\n",
       "      <th>unitid</th>\n",
       "      <th>utc_ts</th>\n",
       "      <th>lat</th>\n",
       "      <th>lon</th>\n",
       "      <th>speed</th>\n",
       "      <th>typecode</th>\n",
       "    </tr>\n",
       "  </thead>\n",
       "  <tbody>\n",
       "    <tr>\n",
       "      <th>691017</th>\n",
       "      <td>00300170000000T015830332359</td>\n",
       "      <td>2024-11-01 00:01:40</td>\n",
       "      <td>15.557478</td>\n",
       "      <td>100.109223</td>\n",
       "      <td>178</td>\n",
       "      <td>7</td>\n",
       "    </tr>\n",
       "    <tr>\n",
       "      <th>694865</th>\n",
       "      <td>00300170000000T015830332359</td>\n",
       "      <td>2024-11-01 00:01:40</td>\n",
       "      <td>15.557478</td>\n",
       "      <td>100.109223</td>\n",
       "      <td>178</td>\n",
       "      <td>7</td>\n",
       "    </tr>\n",
       "    <tr>\n",
       "      <th>1219106</th>\n",
       "      <td>174000100000000000000000630</td>\n",
       "      <td>2024-11-01 00:04:57</td>\n",
       "      <td>13.549760</td>\n",
       "      <td>99.694048</td>\n",
       "      <td>123</td>\n",
       "      <td>9</td>\n",
       "    </tr>\n",
       "    <tr>\n",
       "      <th>1657195</th>\n",
       "      <td>00300170000000T015830332359</td>\n",
       "      <td>2024-11-01 00:05:36</td>\n",
       "      <td>16.617090</td>\n",
       "      <td>101.813050</td>\n",
       "      <td>143</td>\n",
       "      <td>7</td>\n",
       "    </tr>\n",
       "    <tr>\n",
       "      <th>1657588</th>\n",
       "      <td>00300170000000T015830332359</td>\n",
       "      <td>2024-11-01 00:05:36</td>\n",
       "      <td>16.617090</td>\n",
       "      <td>101.813050</td>\n",
       "      <td>143</td>\n",
       "      <td>7</td>\n",
       "    </tr>\n",
       "  </tbody>\n",
       "</table>\n",
       "</div>"
      ],
      "text/plain": [
       "                              unitid               utc_ts        lat  \\\n",
       "691017   00300170000000T015830332359  2024-11-01 00:01:40  15.557478   \n",
       "694865   00300170000000T015830332359  2024-11-01 00:01:40  15.557478   \n",
       "1219106  174000100000000000000000630  2024-11-01 00:04:57  13.549760   \n",
       "1657195  00300170000000T015830332359  2024-11-01 00:05:36  16.617090   \n",
       "1657588  00300170000000T015830332359  2024-11-01 00:05:36  16.617090   \n",
       "\n",
       "                lon  speed  typecode  \n",
       "691017   100.109223    178         7  \n",
       "694865   100.109223    178         7  \n",
       "1219106   99.694048    123         9  \n",
       "1657195  101.813050    143         7  \n",
       "1657588  101.813050    143         7  "
      ]
     },
     "execution_count": 7,
     "metadata": {},
     "output_type": "execute_result"
    }
   ],
   "source": [
    "# Count rows where speed is greater than 120\n",
    "high_speed_count = (df[\"speed\"] > 120).sum()\n",
    "print(f\"Total rows where speed > 120: {high_speed_count}\")\n",
    "df_high_speed = df[df[\"speed\"] > 120]\n",
    "df_high_speed.head()"
   ]
  },
  {
   "cell_type": "code",
   "execution_count": 7,
   "metadata": {},
   "outputs": [
    {
     "name": "stdout",
     "output_type": "stream",
     "text": [
      "Requirement already satisfied: folium in c:\\users\\seniorproject\\anaconda3\\lib\\site-packages (0.19.5)\n",
      "Requirement already satisfied: branca>=0.6.0 in c:\\users\\seniorproject\\anaconda3\\lib\\site-packages (from folium) (0.8.1)\n",
      "Requirement already satisfied: jinja2>=2.9 in c:\\users\\seniorproject\\anaconda3\\lib\\site-packages (from folium) (3.1.4)\n",
      "Requirement already satisfied: numpy in c:\\users\\seniorproject\\anaconda3\\lib\\site-packages (from folium) (1.26.4)\n",
      "Requirement already satisfied: requests in c:\\users\\seniorproject\\anaconda3\\lib\\site-packages (from folium) (2.32.3)\n",
      "Requirement already satisfied: xyzservices in c:\\users\\seniorproject\\anaconda3\\lib\\site-packages (from folium) (2022.9.0)\n",
      "Requirement already satisfied: MarkupSafe>=2.0 in c:\\users\\seniorproject\\anaconda3\\lib\\site-packages (from jinja2>=2.9->folium) (2.1.3)\n",
      "Requirement already satisfied: charset-normalizer<4,>=2 in c:\\users\\seniorproject\\anaconda3\\lib\\site-packages (from requests->folium) (3.3.2)\n",
      "Requirement already satisfied: idna<4,>=2.5 in c:\\users\\seniorproject\\anaconda3\\lib\\site-packages (from requests->folium) (3.7)\n",
      "Requirement already satisfied: urllib3<3,>=1.21.1 in c:\\users\\seniorproject\\anaconda3\\lib\\site-packages (from requests->folium) (2.2.3)\n",
      "Requirement already satisfied: certifi>=2017.4.17 in c:\\users\\seniorproject\\anaconda3\\lib\\site-packages (from requests->folium) (2024.8.30)\n"
     ]
    }
   ],
   "source": [
    "!pip install folium"
   ]
  },
  {
   "cell_type": "code",
   "execution_count": 8,
   "metadata": {},
   "outputs": [
    {
     "name": "stdout",
     "output_type": "stream",
     "text": [
      "Total GPS Outliers Outside Thailand: 23,252\n"
     ]
    },
    {
     "data": {
      "text/html": [
       "<div>\n",
       "<style scoped>\n",
       "    .dataframe tbody tr th:only-of-type {\n",
       "        vertical-align: middle;\n",
       "    }\n",
       "\n",
       "    .dataframe tbody tr th {\n",
       "        vertical-align: top;\n",
       "    }\n",
       "\n",
       "    .dataframe thead th {\n",
       "        text-align: right;\n",
       "    }\n",
       "</style>\n",
       "<table border=\"1\" class=\"dataframe\">\n",
       "  <thead>\n",
       "    <tr style=\"text-align: right;\">\n",
       "      <th></th>\n",
       "      <th>unitid</th>\n",
       "      <th>utc_ts</th>\n",
       "      <th>lat</th>\n",
       "      <th>lon</th>\n",
       "      <th>speed</th>\n",
       "      <th>typecode</th>\n",
       "    </tr>\n",
       "  </thead>\n",
       "  <tbody>\n",
       "    <tr>\n",
       "      <th>8135</th>\n",
       "      <td>006002200000000711060010017</td>\n",
       "      <td>2024-10-31 23:59:35</td>\n",
       "      <td>0.00000</td>\n",
       "      <td>0.00000</td>\n",
       "      <td>0</td>\n",
       "      <td>7</td>\n",
       "    </tr>\n",
       "    <tr>\n",
       "      <th>9740</th>\n",
       "      <td>006002600000000430062050634</td>\n",
       "      <td>2024-10-31 23:59:34</td>\n",
       "      <td>0.00000</td>\n",
       "      <td>0.00000</td>\n",
       "      <td>0</td>\n",
       "      <td>7</td>\n",
       "    </tr>\n",
       "    <tr>\n",
       "      <th>9849</th>\n",
       "      <td>006002600000000708045161093</td>\n",
       "      <td>2024-10-31 23:59:27</td>\n",
       "      <td>0.00000</td>\n",
       "      <td>0.00000</td>\n",
       "      <td>0</td>\n",
       "      <td>7</td>\n",
       "    </tr>\n",
       "    <tr>\n",
       "      <th>12974</th>\n",
       "      <td>1850003GT06E359857082919473</td>\n",
       "      <td>2024-10-31 23:59:36</td>\n",
       "      <td>5.36742</td>\n",
       "      <td>100.42992</td>\n",
       "      <td>0</td>\n",
       "      <td>7</td>\n",
       "    </tr>\n",
       "    <tr>\n",
       "      <th>19874</th>\n",
       "      <td>084000600000864352043379320</td>\n",
       "      <td>2024-10-31 23:59:53</td>\n",
       "      <td>0.00000</td>\n",
       "      <td>0.00000</td>\n",
       "      <td>0</td>\n",
       "      <td>7</td>\n",
       "    </tr>\n",
       "  </tbody>\n",
       "</table>\n",
       "</div>"
      ],
      "text/plain": [
       "                            unitid               utc_ts      lat        lon  \\\n",
       "8135   006002200000000711060010017  2024-10-31 23:59:35  0.00000    0.00000   \n",
       "9740   006002600000000430062050634  2024-10-31 23:59:34  0.00000    0.00000   \n",
       "9849   006002600000000708045161093  2024-10-31 23:59:27  0.00000    0.00000   \n",
       "12974  1850003GT06E359857082919473  2024-10-31 23:59:36  5.36742  100.42992   \n",
       "19874  084000600000864352043379320  2024-10-31 23:59:53  0.00000    0.00000   \n",
       "\n",
       "       speed  typecode  \n",
       "8135       0         7  \n",
       "9740       0         7  \n",
       "9849       0         7  \n",
       "12974      0         7  \n",
       "19874      0         7  "
      ]
     },
     "execution_count": 8,
     "metadata": {},
     "output_type": "execute_result"
    }
   ],
   "source": [
    "# Define reasonable lat/lon bounds for Thailand\n",
    "lat_min, lat_max = 5.5, 20.5    # Thailand spans approx. 5.5°N to 20.5°N\n",
    "lon_min, lon_max = 97.0, 106.0  # Thailand spans approx. 97°E to 106°E\n",
    "\n",
    "# Find GPS points outside Thailand's geographic boundary\n",
    "outliers = df[(df[\"lat\"] < lat_min) | (df[\"lat\"] > lat_max) | \n",
    "              (df[\"lon\"] < lon_min) | (df[\"lon\"] > lon_max)]\n",
    "\n",
    "# Output result\n",
    "print(f\"Total GPS Outliers Outside Thailand: {len(outliers):,}\")\n",
    "outliers.head()\n"
   ]
  },
  {
   "cell_type": "code",
   "execution_count": 9,
   "metadata": {},
   "outputs": [
    {
     "name": "stdout",
     "output_type": "stream",
     "text": [
      "Total duplicate rows: 23517142\n"
     ]
    },
    {
     "data": {
      "text/html": [
       "<div>\n",
       "<style scoped>\n",
       "    .dataframe tbody tr th:only-of-type {\n",
       "        vertical-align: middle;\n",
       "    }\n",
       "\n",
       "    .dataframe tbody tr th {\n",
       "        vertical-align: top;\n",
       "    }\n",
       "\n",
       "    .dataframe thead th {\n",
       "        text-align: right;\n",
       "    }\n",
       "</style>\n",
       "<table border=\"1\" class=\"dataframe\">\n",
       "  <thead>\n",
       "    <tr style=\"text-align: right;\">\n",
       "      <th></th>\n",
       "      <th>unitid</th>\n",
       "      <th>utc_ts</th>\n",
       "      <th>lat</th>\n",
       "      <th>lon</th>\n",
       "      <th>speed</th>\n",
       "      <th>typecode</th>\n",
       "    </tr>\n",
       "  </thead>\n",
       "  <tbody>\n",
       "    <tr>\n",
       "      <th>592</th>\n",
       "      <td>00300170000000T015840810752</td>\n",
       "      <td>2024-10-31 23:58:51</td>\n",
       "      <td>13.447898</td>\n",
       "      <td>100.999568</td>\n",
       "      <td>0</td>\n",
       "      <td>6</td>\n",
       "    </tr>\n",
       "    <tr>\n",
       "      <th>766</th>\n",
       "      <td>00300170000000T015820450148</td>\n",
       "      <td>2024-10-31 23:58:47</td>\n",
       "      <td>16.397420</td>\n",
       "      <td>102.813911</td>\n",
       "      <td>66</td>\n",
       "      <td>7</td>\n",
       "    </tr>\n",
       "    <tr>\n",
       "      <th>776</th>\n",
       "      <td>00300170000000T015830332337</td>\n",
       "      <td>2024-10-31 23:58:55</td>\n",
       "      <td>13.028070</td>\n",
       "      <td>100.936436</td>\n",
       "      <td>0</td>\n",
       "      <td>6</td>\n",
       "    </tr>\n",
       "    <tr>\n",
       "      <th>779</th>\n",
       "      <td>00300170000000T015830441609</td>\n",
       "      <td>2024-10-31 23:58:35</td>\n",
       "      <td>9.158256</td>\n",
       "      <td>99.378453</td>\n",
       "      <td>0</td>\n",
       "      <td>7</td>\n",
       "    </tr>\n",
       "    <tr>\n",
       "      <th>781</th>\n",
       "      <td>00300170000000T015830441306</td>\n",
       "      <td>2024-10-31 23:58:58</td>\n",
       "      <td>18.289143</td>\n",
       "      <td>99.438628</td>\n",
       "      <td>60</td>\n",
       "      <td>6</td>\n",
       "    </tr>\n",
       "  </tbody>\n",
       "</table>\n",
       "</div>"
      ],
      "text/plain": [
       "                          unitid               utc_ts        lat         lon  \\\n",
       "592  00300170000000T015840810752  2024-10-31 23:58:51  13.447898  100.999568   \n",
       "766  00300170000000T015820450148  2024-10-31 23:58:47  16.397420  102.813911   \n",
       "776  00300170000000T015830332337  2024-10-31 23:58:55  13.028070  100.936436   \n",
       "779  00300170000000T015830441609  2024-10-31 23:58:35   9.158256   99.378453   \n",
       "781  00300170000000T015830441306  2024-10-31 23:58:58  18.289143   99.438628   \n",
       "\n",
       "     speed  typecode  \n",
       "592      0         6  \n",
       "766     66         7  \n",
       "776      0         6  \n",
       "779      0         7  \n",
       "781     60         6  "
      ]
     },
     "execution_count": 9,
     "metadata": {},
     "output_type": "execute_result"
    }
   ],
   "source": [
    "duplicates = df[df.duplicated()]\n",
    "print(f\"Total duplicate rows: {len(duplicates)}\")\n",
    "duplicates.head()"
   ]
  }
 ],
 "metadata": {
  "kernelspec": {
   "display_name": "base",
   "language": "python",
   "name": "python3"
  },
  "language_info": {
   "codemirror_mode": {
    "name": "ipython",
    "version": 3
   },
   "file_extension": ".py",
   "mimetype": "text/x-python",
   "name": "python",
   "nbconvert_exporter": "python",
   "pygments_lexer": "ipython3",
   "version": "3.12.7"
  }
 },
 "nbformat": 4,
 "nbformat_minor": 2
}
